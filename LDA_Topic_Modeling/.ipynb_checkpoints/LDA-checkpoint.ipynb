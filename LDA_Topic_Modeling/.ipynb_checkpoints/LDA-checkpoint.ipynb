{
 "cells": [
  {
   "cell_type": "markdown",
   "metadata": {},
   "source": [
    "## Step 0: Latent Dirichlet Allocation ##\n",
    "\n",
    "LDA is used to classify text in a document to a particular topic. It builds a topic per document model and words per topic model, modeled as Dirichlet distributions. \n",
    "\n",
    "* Each document is modeled as a multinomial distribution of topics and each topic is modeled as a multinomial distribution of words.\n",
    "* LDA assumes that the every chunk of text we feed into it will contain words that are somehow related. Therefore choosing the right corpus of data is crucial. \n",
    "* It also assumes documents are produced from a mixture of topics. Those topics then generate words based on their probability distribution. "
   ]
  },
  {
   "cell_type": "markdown",
   "metadata": {},
   "source": [
    "## Step 1: Load the dataset\n",
    "\n",
    "The dataset used here is a list of over one million news headlines published over a period of 15 years."
   ]
  },
  {
   "cell_type": "code",
   "execution_count": 1,
   "metadata": {},
   "outputs": [],
   "source": [
    "'''\n",
    "Load the dataset from the CSV and save it to 'data_text'.\n",
    "'''\n",
    "import pandas as pd\n",
    "data = pd.read_csv('abcnews-date-text.csv', error_bad_lines=False);\n",
    "# We only need the Headlines text column from the data\n",
    "data_text = data[:300000][['headline_text']];\n",
    "data_text['index'] = data_text.index\n",
    "documents = data_text"
   ]
  },
  {
   "cell_type": "code",
   "execution_count": 2,
   "metadata": {},
   "outputs": [
    {
     "name": "stdout",
     "output_type": "stream",
     "text": [
      "300000\n"
     ]
    }
   ],
   "source": [
    "'''\n",
    "Get the total number of documents.\n",
    "'''\n",
    "print(len(documents))"
   ]
  },
  {
   "cell_type": "code",
   "execution_count": 3,
   "metadata": {},
   "outputs": [
    {
     "data": {
      "text/html": [
       "<div>\n",
       "<style scoped>\n",
       "    .dataframe tbody tr th:only-of-type {\n",
       "        vertical-align: middle;\n",
       "    }\n",
       "\n",
       "    .dataframe tbody tr th {\n",
       "        vertical-align: top;\n",
       "    }\n",
       "\n",
       "    .dataframe thead th {\n",
       "        text-align: right;\n",
       "    }\n",
       "</style>\n",
       "<table border=\"1\" class=\"dataframe\">\n",
       "  <thead>\n",
       "    <tr style=\"text-align: right;\">\n",
       "      <th></th>\n",
       "      <th>headline_text</th>\n",
       "      <th>index</th>\n",
       "    </tr>\n",
       "  </thead>\n",
       "  <tbody>\n",
       "    <tr>\n",
       "      <th>0</th>\n",
       "      <td>aba decides against community broadcasting lic...</td>\n",
       "      <td>0</td>\n",
       "    </tr>\n",
       "    <tr>\n",
       "      <th>1</th>\n",
       "      <td>act fire witnesses must be aware of defamation</td>\n",
       "      <td>1</td>\n",
       "    </tr>\n",
       "    <tr>\n",
       "      <th>2</th>\n",
       "      <td>a g calls for infrastructure protection summit</td>\n",
       "      <td>2</td>\n",
       "    </tr>\n",
       "    <tr>\n",
       "      <th>3</th>\n",
       "      <td>air nz staff in aust strike for pay rise</td>\n",
       "      <td>3</td>\n",
       "    </tr>\n",
       "    <tr>\n",
       "      <th>4</th>\n",
       "      <td>air nz strike to affect australian travellers</td>\n",
       "      <td>4</td>\n",
       "    </tr>\n",
       "  </tbody>\n",
       "</table>\n",
       "</div>"
      ],
      "text/plain": [
       "                                       headline_text  index\n",
       "0  aba decides against community broadcasting lic...      0\n",
       "1     act fire witnesses must be aware of defamation      1\n",
       "2     a g calls for infrastructure protection summit      2\n",
       "3           air nz staff in aust strike for pay rise      3\n",
       "4      air nz strike to affect australian travellers      4"
      ]
     },
     "execution_count": 3,
     "metadata": {},
     "output_type": "execute_result"
    }
   ],
   "source": [
    "documents[:5]"
   ]
  },
  {
   "cell_type": "markdown",
   "metadata": {},
   "source": [
    "## Step 2: Data Preprocessing ##\n",
    "\n",
    "Perform the following steps:\n",
    "\n",
    "* **Tokenization**: Split the text into sentences and the sentences into words. Lowercase the words and remove punctuation.\n",
    "* Words that have fewer than 3 characters are removed.\n",
    "* All **stopwords** are removed.\n",
    "* Words are **lemmatized** - words in third person are changed to first person and verbs in past and future tenses are changed into present.\n",
    "* Words are **stemmed** - words are reduced to their root form.\n"
   ]
  },
  {
   "cell_type": "code",
   "execution_count": 7,
   "metadata": {},
   "outputs": [],
   "source": [
    "'''\n",
    "Loading Gensim and nltk libraries.\n",
    "'''\n",
    "# pip install gensim\n",
    "import gensim\n",
    "from gensim.utils import simple_preprocess\n",
    "from gensim.parsing.preprocessing import STOPWORDS\n",
    "from nltk.stem import WordNetLemmatizer, SnowballStemmer\n",
    "from nltk.stem.porter import *\n",
    "import numpy as np\n",
    "np.random.seed(400)"
   ]
  },
  {
   "cell_type": "code",
   "execution_count": 8,
   "metadata": {},
   "outputs": [
    {
     "name": "stderr",
     "output_type": "stream",
     "text": [
      "[nltk_data] Downloading package wordnet to\n",
      "[nltk_data]     /Users/ellachang/nltk_data...\n",
      "[nltk_data]   Package wordnet is already up-to-date!\n"
     ]
    },
    {
     "data": {
      "text/plain": [
       "True"
      ]
     },
     "execution_count": 8,
     "metadata": {},
     "output_type": "execute_result"
    }
   ],
   "source": [
    "import nltk\n",
    "nltk.download('wordnet')"
   ]
  },
  {
   "cell_type": "code",
   "execution_count": 13,
   "metadata": {},
   "outputs": [],
   "source": [
    "'''\n",
    "Perform stemming and lemmatization.\n",
    "'''\n",
    "def lemmatize_stemming(text):\n",
    "    return stemmer.stem(WordNetLemmatizer().lemmatize(text, pos='v'))\n",
    "\n",
    "# Tokenize and lemmatize\n",
    "def preprocess(text):\n",
    "    result = []\n",
    "    for token in gensim.utils.simple_preprocess(text) :\n",
    "        if token not in gensim.parsing.preprocessing.STOPWORDS and len(token) > 3:\n",
    "            result.append(lemmatize_stemming(token))\n",
    "    return result"
   ]
  },
  {
   "cell_type": "code",
   "execution_count": 14,
   "metadata": {},
   "outputs": [
    {
     "name": "stdout",
     "output_type": "stream",
     "text": [
      "Original document: \n",
      "['rain', 'helps', 'dampen', 'bushfires']\n",
      "\n",
      "\n",
      "Tokenized and lemmatized document: \n",
      "['rain', 'help', 'dampen', 'bushfir']\n"
     ]
    }
   ],
   "source": [
    "'''\n",
    "Preview a document after preprocessing.\n",
    "'''\n",
    "document_num = 4310\n",
    "doc_sample = documents[documents['index'] == document_num].values[0][0]\n",
    "\n",
    "print(\"Original document: \")\n",
    "words = []\n",
    "for word in doc_sample.split(' '):\n",
    "    words.append(word)\n",
    "print(words)\n",
    "print(\"\\n\\nTokenized and lemmatized document: \")\n",
    "print(preprocess(doc_sample))"
   ]
  },
  {
   "cell_type": "code",
   "execution_count": 15,
   "metadata": {
    "scrolled": true
   },
   "outputs": [
    {
     "data": {
      "text/html": [
       "<div>\n",
       "<style scoped>\n",
       "    .dataframe tbody tr th:only-of-type {\n",
       "        vertical-align: middle;\n",
       "    }\n",
       "\n",
       "    .dataframe tbody tr th {\n",
       "        vertical-align: top;\n",
       "    }\n",
       "\n",
       "    .dataframe thead th {\n",
       "        text-align: right;\n",
       "    }\n",
       "</style>\n",
       "<table border=\"1\" class=\"dataframe\">\n",
       "  <thead>\n",
       "    <tr style=\"text-align: right;\">\n",
       "      <th></th>\n",
       "      <th>headline_text</th>\n",
       "      <th>index</th>\n",
       "    </tr>\n",
       "  </thead>\n",
       "  <tbody>\n",
       "    <tr>\n",
       "      <th>0</th>\n",
       "      <td>aba decides against community broadcasting lic...</td>\n",
       "      <td>0</td>\n",
       "    </tr>\n",
       "    <tr>\n",
       "      <th>1</th>\n",
       "      <td>act fire witnesses must be aware of defamation</td>\n",
       "      <td>1</td>\n",
       "    </tr>\n",
       "    <tr>\n",
       "      <th>2</th>\n",
       "      <td>a g calls for infrastructure protection summit</td>\n",
       "      <td>2</td>\n",
       "    </tr>\n",
       "    <tr>\n",
       "      <th>3</th>\n",
       "      <td>air nz staff in aust strike for pay rise</td>\n",
       "      <td>3</td>\n",
       "    </tr>\n",
       "    <tr>\n",
       "      <th>4</th>\n",
       "      <td>air nz strike to affect australian travellers</td>\n",
       "      <td>4</td>\n",
       "    </tr>\n",
       "    <tr>\n",
       "      <th>...</th>\n",
       "      <td>...</td>\n",
       "      <td>...</td>\n",
       "    </tr>\n",
       "    <tr>\n",
       "      <th>299995</th>\n",
       "      <td>broughton hall audit reveals serious breaches</td>\n",
       "      <td>299995</td>\n",
       "    </tr>\n",
       "    <tr>\n",
       "      <th>299996</th>\n",
       "      <td>broughton hall fails key standards</td>\n",
       "      <td>299996</td>\n",
       "    </tr>\n",
       "    <tr>\n",
       "      <th>299997</th>\n",
       "      <td>broughton hall safe for residents govt says</td>\n",
       "      <td>299997</td>\n",
       "    </tr>\n",
       "    <tr>\n",
       "      <th>299998</th>\n",
       "      <td>burn off at conservation park aims to prevent</td>\n",
       "      <td>299998</td>\n",
       "    </tr>\n",
       "    <tr>\n",
       "      <th>299999</th>\n",
       "      <td>burns suspended for two games</td>\n",
       "      <td>299999</td>\n",
       "    </tr>\n",
       "  </tbody>\n",
       "</table>\n",
       "<p>300000 rows × 2 columns</p>\n",
       "</div>"
      ],
      "text/plain": [
       "                                            headline_text   index\n",
       "0       aba decides against community broadcasting lic...       0\n",
       "1          act fire witnesses must be aware of defamation       1\n",
       "2          a g calls for infrastructure protection summit       2\n",
       "3                air nz staff in aust strike for pay rise       3\n",
       "4           air nz strike to affect australian travellers       4\n",
       "...                                                   ...     ...\n",
       "299995      broughton hall audit reveals serious breaches  299995\n",
       "299996                 broughton hall fails key standards  299996\n",
       "299997        broughton hall safe for residents govt says  299997\n",
       "299998      burn off at conservation park aims to prevent  299998\n",
       "299999                      burns suspended for two games  299999\n",
       "\n",
       "[300000 rows x 2 columns]"
      ]
     },
     "execution_count": 15,
     "metadata": {},
     "output_type": "execute_result"
    }
   ],
   "source": [
    "documents"
   ]
  },
  {
   "cell_type": "code",
   "execution_count": 16,
   "metadata": {},
   "outputs": [],
   "source": [
    "# Preprocess all the headlines and save results as 'processed_docs'.\n",
    "processed_docs = documents['headline_text'].map(preprocess)"
   ]
  },
  {
   "cell_type": "code",
   "execution_count": 17,
   "metadata": {},
   "outputs": [
    {
     "data": {
      "text/plain": [
       "0            [decid, communiti, broadcast, licenc]\n",
       "1                               [wit, awar, defam]\n",
       "2           [call, infrastructur, protect, summit]\n",
       "3                      [staff, aust, strike, rise]\n",
       "4             [strike, affect, australian, travel]\n",
       "5               [ambiti, olsson, win, tripl, jump]\n",
       "6           [antic, delight, record, break, barca]\n",
       "7    [aussi, qualifi, stosur, wast, memphi, match]\n",
       "8            [aust, address, secur, council, iraq]\n",
       "9                         [australia, lock, timet]\n",
       "Name: headline_text, dtype: object"
      ]
     },
     "execution_count": 17,
     "metadata": {},
     "output_type": "execute_result"
    }
   ],
   "source": [
    "'''\n",
    "Preview 'processed_docs'.\n",
    "'''\n",
    "processed_docs[:10]"
   ]
  },
  {
   "cell_type": "markdown",
   "metadata": {},
   "source": [
    "## Step 3.1: Bag of words on the dataset\n",
    "\n",
    "Create a dictionary from 'processed_docs' containing the number of times a word appears in the training set."
   ]
  },
  {
   "cell_type": "code",
   "execution_count": 18,
   "metadata": {},
   "outputs": [],
   "source": [
    "'''\n",
    "Create a dictionary from 'processed_docs' containing the number of times a word appears \n",
    "in the training set.\n",
    "'''\n",
    "dictionary = gensim.corpora.Dictionary(processed_docs)"
   ]
  },
  {
   "cell_type": "code",
   "execution_count": 20,
   "metadata": {},
   "outputs": [
    {
     "name": "stdout",
     "output_type": "stream",
     "text": [
      "0 broadcast\n",
      "1 communiti\n",
      "2 decid\n",
      "3 licenc\n",
      "4 awar\n",
      "5 defam\n",
      "6 wit\n",
      "7 call\n",
      "8 infrastructur\n",
      "9 protect\n",
      "10 summit\n"
     ]
    }
   ],
   "source": [
    "'''\n",
    "Check the created dictionary.\n",
    "'''\n",
    "count = 0\n",
    "for k, v in dictionary.iteritems():\n",
    "    print(k, v)\n",
    "    count += 1\n",
    "    if count > 10:\n",
    "        break"
   ]
  },
  {
   "cell_type": "code",
   "execution_count": 21,
   "metadata": {},
   "outputs": [],
   "source": [
    "'''\n",
    "Remove very rare and very common words:\n",
    "  - words appearing less than 15 times\n",
    "  - words appearing in more than 10% of all documents\n",
    "'''\n",
    "dictionary.filter_extremes(no_below=15, no_above=0.1)"
   ]
  },
  {
   "cell_type": "code",
   "execution_count": 23,
   "metadata": {},
   "outputs": [],
   "source": [
    "'''\n",
    "Create the Bag-of-words model for each document i.e for each document we create a dictionary reporting how many\n",
    "words and how many times those words appear.\n",
    "'''\n",
    "bow_corpus = [dictionary.doc2bow(doc) for doc in processed_docs]"
   ]
  },
  {
   "cell_type": "code",
   "execution_count": 24,
   "metadata": {},
   "outputs": [
    {
     "data": {
      "text/plain": [
       "[(71, 1), (107, 1), (462, 1), (3530, 1)]"
      ]
     },
     "execution_count": 24,
     "metadata": {},
     "output_type": "execute_result"
    }
   ],
   "source": [
    "'''\n",
    "Checking Bag of Words corpus for our sample document --> (token_id, token_count)\n",
    "'''\n",
    "bow_corpus[document_num]"
   ]
  },
  {
   "cell_type": "code",
   "execution_count": 26,
   "metadata": {},
   "outputs": [
    {
     "name": "stdout",
     "output_type": "stream",
     "text": [
      "Word 71 (\"bushfir\") appears 1 time.\n",
      "Word 107 (\"help\") appears 1 time.\n",
      "Word 462 (\"rain\") appears 1 time.\n",
      "Word 3530 (\"dampen\") appears 1 time.\n"
     ]
    }
   ],
   "source": [
    "'''\n",
    "Preview BOW for our sample preprocessed document.\n",
    "'''\n",
    "bow_doc_4310 = bow_corpus[document_num]\n",
    "\n",
    "for i in range(len(bow_doc_4310)):\n",
    "    print(\"Word {} (\\\"{}\\\") appears {} time.\".format(bow_doc_4310[i][0], \n",
    "                                                     dictionary[bow_doc_4310[i][0]], \n",
    "                                                     bow_doc_4310[i][1]))"
   ]
  },
  {
   "cell_type": "markdown",
   "metadata": {},
   "source": [
    "## Step 3.2: TF-IDF on document set ##\n",
    "\n",
    "While performing TF-IDF on the corpus is not necessary for LDA implemention using the gensim model, it is recemmended. TF-IDF expects a bag-of-words (integer values) training corpus during initialization. During transformation, it will take a vector and return another vector of the same dimensionality."
   ]
  },
  {
   "cell_type": "markdown",
   "metadata": {},
   "source": [
    "** TF-IDF stands for \"Term Frequency, Inverse Document Frequency\".**\n",
    "\n",
    "* It is a way to score the importance of words (or \"terms\") in a document based on how frequently they appear across multiple documents.\n",
    "* If a word appears frequently in a document, it's important. Give the word a high score. But if a word appears in many documents, it's not a unique identifier. Give the word a low score.\n",
    "* Therefore, common words like \"the\" and \"for\", which appear in many documents, will be scaled down. Words that appear frequently in a single document will be scaled up.\n",
    "\n",
    "In other words:\n",
    "\n",
    "* TF(w) = `(Number of times term w appears in a document) / (Total number of terms in the document)`.\n",
    "* IDF(w) = `log_e(Total number of documents / Number of documents with term w in it)`.\n",
    "\n",
    "** For example **\n",
    "\n",
    "* Consider a document containing `100` words wherein the word 'tiger' appears 3 times. \n",
    "* The term frequency (i.e., tf) for 'tiger' is then: \n",
    "    - `TF = (3 / 100) = 0.03`. \n",
    "\n",
    "* Now, assume we have `10 million` documents and the word 'tiger' appears in `1000` of these. Then, the inverse document frequency (i.e., idf) is calculated as:\n",
    "    - `IDF = log(10,000,000 / 1,000) = 4`. \n",
    "\n",
    "* Thus, the Tf-idf weight is the product of these quantities: \n",
    "    - `TF-IDF = 0.03 * 4 = 0.12`."
   ]
  },
  {
   "cell_type": "code",
   "execution_count": 28,
   "metadata": {},
   "outputs": [],
   "source": [
    "'''\n",
    "Create tf-idf model object.\n",
    "'''\n",
    "from gensim import corpora, models\n",
    "\n",
    "tfidf = models.TfidfModel(bow_corpus)"
   ]
  },
  {
   "cell_type": "code",
   "execution_count": 29,
   "metadata": {},
   "outputs": [],
   "source": [
    "'''\n",
    "Apply transformation to the entire corpus.\n",
    "'''\n",
    "corpus_tfidf = tfidf[bow_corpus]"
   ]
  },
  {
   "cell_type": "code",
   "execution_count": 31,
   "metadata": {},
   "outputs": [
    {
     "name": "stdout",
     "output_type": "stream",
     "text": [
      "[(0, 0.5959813347777092),\n",
      " (1, 0.39204529549491984),\n",
      " (2, 0.48531419274988147),\n",
      " (3, 0.5055461098578569)]\n"
     ]
    }
   ],
   "source": [
    "'''\n",
    "Preview TF-IDF scores for our first document --> (token_id, tfidf score)\n",
    "'''\n",
    "from pprint import pprint\n",
    "for doc in corpus_tfidf:\n",
    "    pprint(doc)\n",
    "    break"
   ]
  },
  {
   "cell_type": "markdown",
   "metadata": {},
   "source": [
    "## Step 4.1: Running LDA using Bag of Words ##\n",
    "\n",
    "We are going for 10 topics in the document corpus.\n",
    "\n",
    "** We will be running LDA using all CPU cores to parallelize and speed up model training.**\n",
    "\n",
    "Some of the parameters we will be tweaking are:\n",
    "\n",
    "* **num_topics** is the number of requested latent topics to be extracted from the training corpus.\n",
    "* **id2word** is a mapping from word ids (integers) to words (strings). It is used to determine the vocabulary size, as well as for debugging and topic printing.\n",
    "* **workers** is the number of extra processes to use for parallelization. Uses all available cores by default.\n",
    "* **alpha** and **eta** are hyperparameters that affect sparsity of the document-topic (theta) and topic-word (lambda) distributions. We will let these be the default values for now(default value is `1/num_topics`)\n",
    "    - Alpha is the per document topic distribution.\n",
    "        * High alpha: Every document has a mixture of all topics(documents appear similar to each other).\n",
    "        * Low alpha: Every document has a mixture of very few topics\n",
    "\n",
    "    - Eta is the per topic word distribution.\n",
    "        * High eta: Each topic has a mixture of most words(topics appear similar to each other).\n",
    "        * Low eta: Each topic has a mixture of few words.\n",
    "\n",
    "* ** passes ** is the number of training passes through the corpus. For  example, if the training corpus has 50,000 documents, chunksize is  10,000, passes is 2, then online training is done in 10 updates: \n",
    "    * `#1 documents 0-9,999 `\n",
    "    * `#2 documents 10,000-19,999 `\n",
    "    * `#3 documents 20,000-29,999 `\n",
    "    * `#4 documents 30,000-39,999 `\n",
    "    * `#5 documents 40,000-49,999 `\n",
    "    * `#6 documents 0-9,999 `\n",
    "    * `#7 documents 10,000-19,999 `\n",
    "    * `#8 documents 20,000-29,999 `\n",
    "    * `#9 documents 30,000-39,999 `\n",
    "    * `#10 documents 40,000-49,999` "
   ]
  },
  {
   "cell_type": "code",
   "execution_count": 34,
   "metadata": {},
   "outputs": [],
   "source": [
    "'''\n",
    "Train the LDA model.\n",
    "'''\n",
    "lda_model = gensim.models.LdaMulticore(bow_corpus,\n",
    "                                  num_topics = 10,\n",
    "                                  id2word = dictionary,\n",
    "                                  passes = 50,\n",
    "                                  workers=2)"
   ]
  },
  {
   "cell_type": "code",
   "execution_count": 35,
   "metadata": {},
   "outputs": [
    {
     "name": "stdout",
     "output_type": "stream",
     "text": [
      "Topic: 0.025*\"miss\" + 0.019*\"lead\" + 0.017*\"rise\" + 0.016*\"search\" + 0.016*\"continu\" + 0.016*\"sydney\" + 0.015*\"break\" + 0.015*\"market\" + 0.014*\"price\" + 0.014*\"south\" \n",
      "Words: 0\n",
      "\n",
      "\n",
      "Topic: 0.021*\"australia\" + 0.019*\"world\" + 0.018*\"open\" + 0.017*\"deal\" + 0.015*\"england\" + 0.014*\"final\" + 0.012*\"iraq\" + 0.012*\"howard\" + 0.011*\"play\" + 0.010*\"troop\" \n",
      "Words: 1\n",
      "\n",
      "\n",
      "Topic: 0.039*\"court\" + 0.038*\"face\" + 0.031*\"charg\" + 0.027*\"jail\" + 0.021*\"drought\" + 0.020*\"year\" + 0.018*\"case\" + 0.016*\"murder\" + 0.015*\"trial\" + 0.014*\"assault\" \n",
      "Words: 2\n",
      "\n",
      "\n",
      "Topic: 0.012*\"expect\" + 0.012*\"bushfir\" + 0.012*\"research\" + 0.011*\"damag\" + 0.010*\"drive\" + 0.010*\"drink\" + 0.009*\"storm\" + 0.009*\"remain\" + 0.009*\"challeng\" + 0.009*\"busi\" \n",
      "Words: 3\n",
      "\n",
      "\n",
      "Topic: 0.075*\"polic\" + 0.030*\"kill\" + 0.028*\"crash\" + 0.020*\"attack\" + 0.020*\"investig\" + 0.015*\"death\" + 0.013*\"accus\" + 0.013*\"probe\" + 0.013*\"die\" + 0.013*\"driver\" \n",
      "Words: 4\n",
      "\n",
      "\n",
      "Topic: 0.021*\"worker\" + 0.021*\"power\" + 0.018*\"talk\" + 0.017*\"win\" + 0.015*\"nuclear\" + 0.014*\"begin\" + 0.012*\"timor\" + 0.011*\"blame\" + 0.010*\"award\" + 0.010*\"port\" \n",
      "Words: 5\n",
      "\n",
      "\n",
      "Topic: 0.023*\"test\" + 0.020*\"elect\" + 0.018*\"return\" + 0.017*\"high\" + 0.015*\"say\" + 0.013*\"home\" + 0.013*\"mayor\" + 0.012*\"futur\" + 0.011*\"bush\" + 0.011*\"hick\" \n",
      "Words: 6\n",
      "\n",
      "\n",
      "Topic: 0.031*\"fund\" + 0.022*\"boost\" + 0.021*\"call\" + 0.020*\"health\" + 0.019*\"nation\" + 0.014*\"secur\" + 0.014*\"servic\" + 0.014*\"fight\" + 0.013*\"rule\" + 0.012*\"region\" \n",
      "Words: 7\n",
      "\n",
      "\n",
      "Topic: 0.021*\"fear\" + 0.021*\"school\" + 0.020*\"closer\" + 0.017*\"union\" + 0.014*\"concern\" + 0.013*\"law\" + 0.013*\"chief\" + 0.012*\"safeti\" + 0.011*\"gold\" + 0.011*\"action\" \n",
      "Words: 8\n",
      "\n",
      "\n",
      "Topic: 0.062*\"govt\" + 0.037*\"urg\" + 0.036*\"water\" + 0.031*\"council\" + 0.028*\"plan\" + 0.015*\"reject\" + 0.014*\"help\" + 0.013*\"consid\" + 0.013*\"seek\" + 0.012*\"chang\" \n",
      "Words: 9\n",
      "\n",
      "\n"
     ]
    }
   ],
   "source": [
    "'''\n",
    "For each topic, we will explore the words occuring in that topic and its relative weight\n",
    "'''\n",
    "for idx, topic in lda_model.print_topics(-1):\n",
    "    print(\"Topic: {} \\nWords: {}\".format(topic, idx ))\n",
    "    print(\"\\n\")"
   ]
  },
  {
   "cell_type": "markdown",
   "metadata": {},
   "source": [
    "### Classification of the topics ###\n",
    "\n",
    "Using the words in each topic and their corresponding weights, what categories were you able to infer?\n",
    "\n",
    "* 0: \n",
    "* 1: \n",
    "* 2: \n",
    "* 3: \n",
    "* 4: \n",
    "* 5: \n",
    "* 6: \n",
    "* 7:  \n",
    "* 8: \n",
    "* 9: "
   ]
  },
  {
   "cell_type": "markdown",
   "metadata": {},
   "source": [
    "## Step 4.2 Running LDA using TF-IDF ##"
   ]
  },
  {
   "cell_type": "code",
   "execution_count": 36,
   "metadata": {},
   "outputs": [],
   "source": [
    "'''\n",
    "Define lda model using corpus_tfidf, again using gensim.models.LdaMulticore()\n",
    "'''\n",
    "lda_model_tfidf = gensim.models.LdaMulticore(corpus_tfidf,\n",
    "                                            num_topics = 10,\n",
    "                                            id2word = dictionary,\n",
    "                                            passes = 2,\n",
    "                                            workers = 4)"
   ]
  },
  {
   "cell_type": "code",
   "execution_count": 37,
   "metadata": {},
   "outputs": [
    {
     "name": "stdout",
     "output_type": "stream",
     "text": [
      "Topic: 0 Word: 0.014*\"water\" + 0.010*\"plan\" + 0.009*\"council\" + 0.009*\"price\" + 0.008*\"govt\" + 0.006*\"rise\" + 0.006*\"urg\" + 0.006*\"develop\" + 0.006*\"rat\" + 0.006*\"region\"\n",
      "\n",
      "\n",
      "Topic: 1 Word: 0.010*\"nuclear\" + 0.008*\"england\" + 0.008*\"stab\" + 0.008*\"drink\" + 0.007*\"iran\" + 0.007*\"korea\" + 0.007*\"quit\" + 0.005*\"drive\" + 0.005*\"decid\" + 0.004*\"polic\"\n",
      "\n",
      "\n",
      "Topic: 2 Word: 0.008*\"bird\" + 0.007*\"toll\" + 0.007*\"israel\" + 0.007*\"palestinian\" + 0.007*\"takeov\" + 0.006*\"cyclon\" + 0.006*\"death\" + 0.006*\"isra\" + 0.005*\"doubt\" + 0.005*\"gaza\"\n",
      "\n",
      "\n",
      "Topic: 3 Word: 0.020*\"charg\" + 0.018*\"court\" + 0.018*\"murder\" + 0.013*\"polic\" + 0.012*\"face\" + 0.012*\"assault\" + 0.010*\"jail\" + 0.010*\"accus\" + 0.009*\"drug\" + 0.007*\"teen\"\n",
      "\n",
      "\n",
      "Topic: 4 Word: 0.025*\"kill\" + 0.014*\"iraq\" + 0.013*\"polic\" + 0.012*\"crash\" + 0.011*\"bomb\" + 0.010*\"attack\" + 0.010*\"troop\" + 0.009*\"dead\" + 0.009*\"injur\" + 0.008*\"investig\"\n",
      "\n",
      "\n",
      "Topic: 5 Word: 0.008*\"search\" + 0.008*\"miss\" + 0.008*\"highway\" + 0.007*\"retir\" + 0.006*\"liber\" + 0.006*\"polic\" + 0.006*\"open\" + 0.006*\"plan\" + 0.006*\"lebanon\" + 0.005*\"hill\"\n",
      "\n",
      "\n",
      "Topic: 6 Word: 0.013*\"govt\" + 0.011*\"fund\" + 0.010*\"health\" + 0.008*\"urg\" + 0.008*\"council\" + 0.007*\"drought\" + 0.007*\"farmer\" + 0.007*\"plan\" + 0.006*\"union\" + 0.006*\"servic\"\n",
      "\n",
      "\n",
      "Topic: 7 Word: 0.031*\"closer\" + 0.010*\"blaze\" + 0.008*\"firefight\" + 0.007*\"damag\" + 0.006*\"crew\" + 0.006*\"profit\" + 0.005*\"record\" + 0.005*\"titl\" + 0.005*\"bushfir\" + 0.005*\"control\"\n",
      "\n",
      "\n",
      "Topic: 8 Word: 0.011*\"crash\" + 0.010*\"die\" + 0.008*\"hick\" + 0.007*\"driver\" + 0.007*\"burn\" + 0.005*\"polic\" + 0.005*\"young\" + 0.005*\"fatal\" + 0.005*\"flag\" + 0.005*\"bendigo\"\n",
      "\n",
      "\n",
      "Topic: 9 Word: 0.008*\"guilti\" + 0.008*\"plead\" + 0.006*\"beazley\" + 0.006*\"kangaroo\" + 0.006*\"hobart\" + 0.005*\"world\" + 0.005*\"squad\" + 0.005*\"wallabi\" + 0.004*\"christma\" + 0.004*\"gunman\"\n",
      "\n",
      "\n"
     ]
    }
   ],
   "source": [
    "'''\n",
    "For each topic, we will explore the words occuring in that topic and its relative weight\n",
    "'''\n",
    "for idx, topic in lda_model_tfidf.print_topics(-1):\n",
    "    print(\"Topic: {} Word: {}\".format(idx, topic))\n",
    "    print(\"\\n\")"
   ]
  },
  {
   "cell_type": "markdown",
   "metadata": {},
   "source": [
    "### Classification of the topics ###\n",
    "\n",
    "As we can see, when using tf-idf, heavier weights are given to words that are not as frequent which results in nouns being factored in. That makes it harder to figure out the categories as nouns can be hard to categorize. This goes to show that the models we apply depend on the type of corpus of text we are dealing with. \n",
    "\n",
    "Using the words in each topic and their corresponding weights, what categories could you find?\n",
    "\n",
    "* 0: \n",
    "* 1:  \n",
    "* 2: \n",
    "* 3: \n",
    "* 4:  \n",
    "* 5: \n",
    "* 6: \n",
    "* 7: \n",
    "* 8: \n",
    "* 9: "
   ]
  },
  {
   "cell_type": "markdown",
   "metadata": {},
   "source": [
    "## Step 5.1: Performance evaluation by classifying sample document using LDA Bag of Words model##\n",
    "\n",
    "We will check to see where our test document would be classified. "
   ]
  },
  {
   "cell_type": "code",
   "execution_count": 38,
   "metadata": {},
   "outputs": [
    {
     "data": {
      "text/plain": [
       "['rain', 'help', 'dampen', 'bushfir']"
      ]
     },
     "execution_count": 38,
     "metadata": {},
     "output_type": "execute_result"
    }
   ],
   "source": [
    "'''\n",
    "Text of sample document 4310.\n",
    "'''\n",
    "processed_docs[4310]"
   ]
  },
  {
   "cell_type": "code",
   "execution_count": 39,
   "metadata": {},
   "outputs": [
    {
     "name": "stdout",
     "output_type": "stream",
     "text": [
      "\n",
      "Score: 0.6202373504638672\t \n",
      "Topic: 0.012*\"expect\" + 0.012*\"bushfir\" + 0.012*\"research\" + 0.011*\"damag\" + 0.010*\"drive\" + 0.010*\"drink\" + 0.009*\"storm\" + 0.009*\"remain\" + 0.009*\"challeng\" + 0.009*\"busi\"\n",
      "\n",
      "Score: 0.21967408061027527\t \n",
      "Topic: 0.075*\"polic\" + 0.030*\"kill\" + 0.028*\"crash\" + 0.020*\"attack\" + 0.020*\"investig\" + 0.015*\"death\" + 0.013*\"accus\" + 0.013*\"probe\" + 0.013*\"die\" + 0.013*\"driver\"\n",
      "\n",
      "Score: 0.020018640905618668\t \n",
      "Topic: 0.062*\"govt\" + 0.037*\"urg\" + 0.036*\"water\" + 0.031*\"council\" + 0.028*\"plan\" + 0.015*\"reject\" + 0.014*\"help\" + 0.013*\"consid\" + 0.013*\"seek\" + 0.012*\"chang\"\n",
      "\n",
      "Score: 0.02001243829727173\t \n",
      "Topic: 0.025*\"miss\" + 0.019*\"lead\" + 0.017*\"rise\" + 0.016*\"search\" + 0.016*\"continu\" + 0.016*\"sydney\" + 0.015*\"break\" + 0.015*\"market\" + 0.014*\"price\" + 0.014*\"south\"\n",
      "\n",
      "Score: 0.020010795444250107\t \n",
      "Topic: 0.023*\"test\" + 0.020*\"elect\" + 0.018*\"return\" + 0.017*\"high\" + 0.015*\"say\" + 0.013*\"home\" + 0.013*\"mayor\" + 0.012*\"futur\" + 0.011*\"bush\" + 0.011*\"hick\"\n",
      "\n",
      "Score: 0.020010747015476227\t \n",
      "Topic: 0.021*\"worker\" + 0.021*\"power\" + 0.018*\"talk\" + 0.017*\"win\" + 0.015*\"nuclear\" + 0.014*\"begin\" + 0.012*\"timor\" + 0.011*\"blame\" + 0.010*\"award\" + 0.010*\"port\"\n",
      "\n",
      "Score: 0.02000897005200386\t \n",
      "Topic: 0.021*\"australia\" + 0.019*\"world\" + 0.018*\"open\" + 0.017*\"deal\" + 0.015*\"england\" + 0.014*\"final\" + 0.012*\"iraq\" + 0.012*\"howard\" + 0.011*\"play\" + 0.010*\"troop\"\n",
      "\n",
      "Score: 0.02000897005200386\t \n",
      "Topic: 0.039*\"court\" + 0.038*\"face\" + 0.031*\"charg\" + 0.027*\"jail\" + 0.021*\"drought\" + 0.020*\"year\" + 0.018*\"case\" + 0.016*\"murder\" + 0.015*\"trial\" + 0.014*\"assault\"\n",
      "\n",
      "Score: 0.02000897005200386\t \n",
      "Topic: 0.031*\"fund\" + 0.022*\"boost\" + 0.021*\"call\" + 0.020*\"health\" + 0.019*\"nation\" + 0.014*\"secur\" + 0.014*\"servic\" + 0.014*\"fight\" + 0.013*\"rule\" + 0.012*\"region\"\n",
      "\n",
      "Score: 0.02000897005200386\t \n",
      "Topic: 0.021*\"fear\" + 0.021*\"school\" + 0.020*\"closer\" + 0.017*\"union\" + 0.014*\"concern\" + 0.013*\"law\" + 0.013*\"chief\" + 0.012*\"safeti\" + 0.011*\"gold\" + 0.011*\"action\"\n"
     ]
    }
   ],
   "source": [
    "'''\n",
    "Check which topic our test document belongs to using the LDA Bag of Words model.\n",
    "'''\n",
    "document_num = 4310\n",
    "# Our test document is document number 4310\n",
    "\n",
    "# Our test document is document number 4310\n",
    "for index, score in sorted(lda_model[bow_corpus[document_num]], key=lambda tup: -1*tup[1]):\n",
    "    print(\"\\nScore: {}\\t \\nTopic: {}\".format(score, lda_model.print_topic(index, 10)))"
   ]
  },
  {
   "cell_type": "markdown",
   "metadata": {},
   "source": [
    "### It has the highest probability (`x`) to be  part of the topic that we assigned as X, which is the accurate classification. ###"
   ]
  },
  {
   "cell_type": "markdown",
   "metadata": {},
   "source": [
    "## Step 5.2: Performance evaluation by classifying sample document using LDA TF-IDF model##"
   ]
  },
  {
   "cell_type": "code",
   "execution_count": 40,
   "metadata": {},
   "outputs": [
    {
     "name": "stdout",
     "output_type": "stream",
     "text": [
      "\n",
      "Score: 0.8199571967124939\t \n",
      "Topic: 0.031*\"closer\" + 0.010*\"blaze\" + 0.008*\"firefight\" + 0.007*\"damag\" + 0.006*\"crew\" + 0.006*\"profit\" + 0.005*\"record\" + 0.005*\"titl\" + 0.005*\"bushfir\" + 0.005*\"control\"\n",
      "\n",
      "Score: 0.02000989206135273\t \n",
      "Topic: 0.013*\"govt\" + 0.011*\"fund\" + 0.010*\"health\" + 0.008*\"urg\" + 0.008*\"council\" + 0.007*\"drought\" + 0.007*\"farmer\" + 0.007*\"plan\" + 0.006*\"union\" + 0.006*\"servic\"\n",
      "\n",
      "Score: 0.020006464794278145\t \n",
      "Topic: 0.014*\"water\" + 0.010*\"plan\" + 0.009*\"council\" + 0.009*\"price\" + 0.008*\"govt\" + 0.006*\"rise\" + 0.006*\"urg\" + 0.006*\"develop\" + 0.006*\"rat\" + 0.006*\"region\"\n",
      "\n",
      "Score: 0.0200051162391901\t \n",
      "Topic: 0.011*\"crash\" + 0.010*\"die\" + 0.008*\"hick\" + 0.007*\"driver\" + 0.007*\"burn\" + 0.005*\"polic\" + 0.005*\"young\" + 0.005*\"fatal\" + 0.005*\"flag\" + 0.005*\"bendigo\"\n",
      "\n",
      "Score: 0.020004382357001305\t \n",
      "Topic: 0.008*\"guilti\" + 0.008*\"plead\" + 0.006*\"beazley\" + 0.006*\"kangaroo\" + 0.006*\"hobart\" + 0.005*\"world\" + 0.005*\"squad\" + 0.005*\"wallabi\" + 0.004*\"christma\" + 0.004*\"gunman\"\n",
      "\n",
      "Score: 0.02000371180474758\t \n",
      "Topic: 0.020*\"charg\" + 0.018*\"court\" + 0.018*\"murder\" + 0.013*\"polic\" + 0.012*\"face\" + 0.012*\"assault\" + 0.010*\"jail\" + 0.010*\"accus\" + 0.009*\"drug\" + 0.007*\"teen\"\n",
      "\n",
      "Score: 0.02000366896390915\t \n",
      "Topic: 0.008*\"search\" + 0.008*\"miss\" + 0.008*\"highway\" + 0.007*\"retir\" + 0.006*\"liber\" + 0.006*\"polic\" + 0.006*\"open\" + 0.006*\"plan\" + 0.006*\"lebanon\" + 0.005*\"hill\"\n",
      "\n",
      "Score: 0.02000327780842781\t \n",
      "Topic: 0.008*\"bird\" + 0.007*\"toll\" + 0.007*\"israel\" + 0.007*\"palestinian\" + 0.007*\"takeov\" + 0.006*\"cyclon\" + 0.006*\"death\" + 0.006*\"isra\" + 0.005*\"doubt\" + 0.005*\"gaza\"\n",
      "\n",
      "Score: 0.0200031865388155\t \n",
      "Topic: 0.010*\"nuclear\" + 0.008*\"england\" + 0.008*\"stab\" + 0.008*\"drink\" + 0.007*\"iran\" + 0.007*\"korea\" + 0.007*\"quit\" + 0.005*\"drive\" + 0.005*\"decid\" + 0.004*\"polic\"\n",
      "\n",
      "Score: 0.020003046840429306\t \n",
      "Topic: 0.025*\"kill\" + 0.014*\"iraq\" + 0.013*\"polic\" + 0.012*\"crash\" + 0.011*\"bomb\" + 0.010*\"attack\" + 0.010*\"troop\" + 0.009*\"dead\" + 0.009*\"injur\" + 0.008*\"investig\"\n"
     ]
    }
   ],
   "source": [
    "'''\n",
    "Check which topic our test document belongs to using the LDA TF-IDF model.\n",
    "'''\n",
    "for index, score in sorted(lda_model_tfidf[bow_corpus[document_num]], key=lambda tup: -1*tup[1]):\n",
    "    print(\"\\nScore: {}\\t \\nTopic: {}\".format(score, lda_model_tfidf.print_topic(index, 10)))"
   ]
  },
  {
   "cell_type": "markdown",
   "metadata": {},
   "source": [
    "### It has the highest probability (`x%`) to be  part of the topic that we assigned as X. ###"
   ]
  },
  {
   "cell_type": "markdown",
   "metadata": {},
   "source": [
    "## Step 6: Testing model on unseen document ##"
   ]
  },
  {
   "cell_type": "code",
   "execution_count": 41,
   "metadata": {},
   "outputs": [
    {
     "name": "stdout",
     "output_type": "stream",
     "text": [
      "Score: 0.4200584292411804\t Topic: 0.021*\"australia\" + 0.019*\"world\" + 0.018*\"open\" + 0.017*\"deal\" + 0.015*\"england\"\n",
      "Score: 0.2199811488389969\t Topic: 0.031*\"fund\" + 0.022*\"boost\" + 0.021*\"call\" + 0.020*\"health\" + 0.019*\"nation\"\n",
      "Score: 0.2199283242225647\t Topic: 0.021*\"fear\" + 0.021*\"school\" + 0.020*\"closer\" + 0.017*\"union\" + 0.014*\"concern\"\n",
      "Score: 0.02000458911061287\t Topic: 0.025*\"miss\" + 0.019*\"lead\" + 0.017*\"rise\" + 0.016*\"search\" + 0.016*\"continu\"\n",
      "Score: 0.02000458911061287\t Topic: 0.039*\"court\" + 0.038*\"face\" + 0.031*\"charg\" + 0.027*\"jail\" + 0.021*\"drought\"\n",
      "Score: 0.02000458911061287\t Topic: 0.012*\"expect\" + 0.012*\"bushfir\" + 0.012*\"research\" + 0.011*\"damag\" + 0.010*\"drive\"\n",
      "Score: 0.02000458911061287\t Topic: 0.075*\"polic\" + 0.030*\"kill\" + 0.028*\"crash\" + 0.020*\"attack\" + 0.020*\"investig\"\n",
      "Score: 0.02000458911061287\t Topic: 0.021*\"worker\" + 0.021*\"power\" + 0.018*\"talk\" + 0.017*\"win\" + 0.015*\"nuclear\"\n",
      "Score: 0.02000458911061287\t Topic: 0.023*\"test\" + 0.020*\"elect\" + 0.018*\"return\" + 0.017*\"high\" + 0.015*\"say\"\n",
      "Score: 0.02000458911061287\t Topic: 0.062*\"govt\" + 0.037*\"urg\" + 0.036*\"water\" + 0.031*\"council\" + 0.028*\"plan\"\n"
     ]
    }
   ],
   "source": [
    "unseen_document = \"My favorite sports activities are running and swimming.\"\n",
    "\n",
    "# Data preprocessing step for the unseen document.\n",
    "bow_vector = dictionary.doc2bow(preprocess(unseen_document))\n",
    "\n",
    "for index, score in sorted(lda_model[bow_vector], key=lambda tup: -1*tup[1]):\n",
    "    print(\"Score: {}\\t Topic: {}\".format(score, lda_model.print_topic(index, 5)))"
   ]
  },
  {
   "cell_type": "markdown",
   "metadata": {},
   "source": [
    "The model correctly classifies the unseen document with 'x'% probability to the X category."
   ]
  }
 ],
 "metadata": {
  "kernelspec": {
   "display_name": "Python 3",
   "language": "python",
   "name": "python3"
  },
  "language_info": {
   "codemirror_mode": {
    "name": "ipython",
    "version": 3
   },
   "file_extension": ".py",
   "mimetype": "text/x-python",
   "name": "python",
   "nbconvert_exporter": "python",
   "pygments_lexer": "ipython3",
   "version": "3.7.6"
  }
 },
 "nbformat": 4,
 "nbformat_minor": 1
}
